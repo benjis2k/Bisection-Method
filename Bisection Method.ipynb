{
 "cells": [
  {
   "cell_type": "markdown",
   "id": "0ded7602",
   "metadata": {},
   "source": [
    "# Introduction\n",
    "\n",
    "The bisection method is a simple and elegant technique that consists of finding a root of a nonlinear equation $f(x) = 0$ on an interval $[a, b]$, where $f$ is a continuous function. It's based on the Intermediate Value Theorem:\n",
    "\n",
    "**Theorem 1:** *If $f \\in \\mathbb{C}([a,b])$ is such that $f(a)f(b) < 0$, then there exists $c \\in (a,b)$ for which $f(c) = 0$.*\n",
    "\n",
    "Below is the algorithm for the bisection method:"
   ]
  },
  {
   "cell_type": "code",
   "execution_count": 24,
   "id": "1e659219",
   "metadata": {},
   "outputs": [
    {
     "name": "stdout",
     "output_type": "stream",
     "text": [
      "Root found at: 1.365234375\n",
      "Number of iterations: 9\n"
     ]
    }
   ],
   "source": [
    "# Bisection Method for Finding Roots of Nonlinear Equations\n",
    "\n",
    "from math import exp, e  # Import exponential function and Euler's number\n",
    "\n",
    "# Define the function for which we want to find the root\n",
    "def f(x):\n",
    "    return x**3 + 4*x**2 - 10\n",
    "\n",
    "epsilon = 1e-3  # Tolerance for stopping criterion (how close to zero is \"good enough\")\n",
    "\n",
    "# Get interval bounds from user\n",
    "lowera = float(input('Enter the lower bound of the interval: '))\n",
    "upperb = float(input('Enter the upper bound of the interval: '))\n",
    "\n",
    "# Bisection method implementation\n",
    "def bisection(a, b):\n",
    "    # Check if a root exists in the interval [a, b]\n",
    "    if f(a) * f(b) < 0:\n",
    "        n = 1  # Added a counter to track the number of iterations\n",
    "        a0 = a\n",
    "        b0 = b\n",
    "        p0 = (a0 + b0) / 2  # Initial midpoint\n",
    "        # Repeat until the function value at midpoint is close enough to zero\n",
    "        while abs(f(p0)) > epsilon:\n",
    "            n += 1  # Increment the counter each iteration\n",
    "            # If the root is between a0 and p0, move b0 to p0\n",
    "            if f(a0) * f(p0) < 0:\n",
    "                b0 = p0\n",
    "            else:\n",
    "                a0 = p0  # Otherwise, move a0 to p0\n",
    "            p0 = (a0 + b0) / 2  # Update midpoint\n",
    "        return p0, n  # Return the root approximation\n",
    "    else:\n",
    "        print('No root found in the given interval.')\n",
    "        return None\n",
    "\n",
    "# Call the bisection method with user-provided bounds\n",
    "root, iterations = bisection(lowera, upperb)\n",
    "\n",
    "print('Root found at:', root)\n",
    "print('Number of iterations:', iterations)  # <-- NOTE: Print the number of iterations\n"
   ]
  },
  {
   "cell_type": "markdown",
   "id": "50ade8f5",
   "metadata": {},
   "source": [
    "The above code uses the stopping criteria of the absolute value of the root being less than $\\epsilon$. However, there are other stopping criterias.\n",
    "\n",
    "## Stopping Criteria\n",
    "\n",
    "1. $|f(p_n)| <\\epsilon$\n",
    "2. $|x_{n+1} - x_n| <\\epsilon$\n",
    "3. After $N$ iterations."
   ]
  },
  {
   "cell_type": "markdown",
   "id": "6cdc4b3b",
   "metadata": {},
   "source": [
    "# Convergence of the Bisection Method\n",
    "\n",
    "**Theorem 2:** *Suppose that $f$ is continuous on $[a,b]$, and that $f(a)f(b) < 0$. The bisection method generates a sequence $(p_n)_{n\\geq 0}$ approximation $p$ with*\n",
    "\n",
    "$$\n",
    "|p_n - p| \\leq \\frac{b-a}{2^{n+1}}\n",
    "$$"
   ]
  },
  {
   "cell_type": "markdown",
   "id": "0902860a",
   "metadata": {},
   "source": [
    "# Order of Convergence\n",
    "\n",
    "**Definition 1:** *Suppose that $(p_n)_{n\\geq 0}$ is a sequence that converges to p, with $p_n \\neq p$ for all $n$. If positive constants $\\lambda$ and $\\alpha$ exist such that*\n",
    "\n",
    "$$\n",
    "\\lim_{n \\to \\infty} \\frac{p_{n+1} - p}{|p_n - p|^\\alpha} = \\lim_{n \\to \\infty} \\frac{e_{n+1}}{e_n^\\alpha} = \\lambda,\n",
    "$$\n",
    "\n",
    "*the $(p_n)_{n\\geq 0}$ converges to $p$, with order of convergence $\\alpha$ and asymptotic error constant $\\lambda$.*"
   ]
  },
  {
   "cell_type": "markdown",
   "id": "d83a66e0",
   "metadata": {},
   "source": [
    "An iterative method $p_n = g(p_{n-1})$ is said to be of order $\\alpha$ if the sequence $(p_n)_{n\\geq 0}$ converges to $p = g(p)$ of order $\\alpha$.\n",
    "\n",
    "- If $\\alpha = 1$: Linear convergence.\n",
    "- If $\\alpha = 2$: Quadratic convergence.\n",
    "- If $\\alpha = 3$: Cubic convergence."
   ]
  },
  {
   "cell_type": "markdown",
   "id": "839b3b72",
   "metadata": {},
   "source": [
    "By the convergence of the bisection method, we have that\n",
    "\n",
    "$$\n",
    "|\\frac{e_{n+1}}{e_n}| \\leq \\frac{\\frac{b-a}{2^{n+2}}}{\\frac{b-a}{2^{n+1}}} = \\frac{1}{2}\n",
    "$$\n",
    "\n",
    "Thus,\n",
    "\n",
    "$$\n",
    "\\lim_{n \\to \\infty} \\frac{e_{n+1}}{e_n} = \\frac{1}{2}\n",
    "$$\n",
    "$$"
   ]
  },
  {
   "cell_type": "markdown",
   "id": "c9fcf573",
   "metadata": {},
   "source": [
    "To find the number of iterations necessary for convergence with a tolerance of $\\epsilon$, let $N = $ # of iterations needed to reach the tolerance $\\epsilon$, or $|p_n - p| < \\epsilon$. Since $|p_N - p| < \\frac{b-a}{2^{N+1}} < \\epsilon$, we can solve for $N$. So,\n",
    "\n",
    "$$\n",
    "\\frac{b-a}{\\epsilon} < 2^{N+1}\n",
    "$$\n",
    "\n",
    "$$\n",
    "\\ln\\frac{b-a}{\\epsilon} < (N+1)\\ln2\n",
    "$$\n",
    "\n",
    "$$\n",
    "N > \\frac{\\ln\\frac{b-a}{\\epsilon}}{\\ln2} - 1\n",
    "$$"
   ]
  },
  {
   "cell_type": "markdown",
   "id": "739a4837",
   "metadata": {},
   "source": [
    "Below is a code to find approximately how many iterations it'll take for the bisection method to converge given an interval $[a,b]$ and a tolerance $\\epsilon$."
   ]
  },
  {
   "cell_type": "code",
   "execution_count": 25,
   "id": "0b0da4c4",
   "metadata": {},
   "outputs": [
    {
     "name": "stdout",
     "output_type": "stream",
     "text": [
      "For the interval [1.0, 2.0], with a tolerance of 0.001, expected number of iterations: N ≥ 8.965784284662087\n",
      "We saw from our previous example that our actual number of iterations was: 9\n"
     ]
    }
   ],
   "source": [
    "from math import log, floor\n",
    "\n",
    "def bisectionconvergence(a, b, e):\n",
    "    N = log((b-a)/e)/log(2) - 1  # Calculate the number of iterations needed\n",
    "\n",
    "    return N\n",
    "\n",
    "expectedIterations = bisectionconvergence(lowera, upperb, epsilon)\n",
    "\n",
    "print('For the interval [{}, {}], with a tolerance of {}, expected number of iterations: N ≥ {}'.format(lowera, upperb, epsilon, expectedIterations))\n",
    "\n",
    "print('We saw from our previous example that our actual number of iterations was: {}'.format(iterations))\n"
   ]
  }
 ],
 "metadata": {
  "kernelspec": {
   "display_name": "Python 3",
   "language": "python",
   "name": "python3"
  },
  "language_info": {
   "codemirror_mode": {
    "name": "ipython",
    "version": 3
   },
   "file_extension": ".py",
   "mimetype": "text/x-python",
   "name": "python",
   "nbconvert_exporter": "python",
   "pygments_lexer": "ipython3",
   "version": "3.13.3"
  }
 },
 "nbformat": 4,
 "nbformat_minor": 5
}
