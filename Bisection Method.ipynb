{
 "cells": [
  {
   "cell_type": "markdown",
   "id": "0ded7602",
   "metadata": {},
   "source": [
    "# Introduction\n",
    "\n",
    "The bisection method is a simple and elegant technique that consists of finding a root of a nonlinear equation $f(x) = 0$ on an interval $[a, b]$, where $f$ is a continuous function. It's based on the Intermediate Value Theorem:\n",
    "\n",
    "**Theorem 1:** *If $f \\in \\mathbb{C}([a,b])$ is such that $f(a)f(b) < 0$, then there exists $c \\in (a,b)$ for which $f(c) = 0$.*"
   ]
  }
 ],
 "metadata": {
  "language_info": {
   "name": "python"
  }
 },
 "nbformat": 4,
 "nbformat_minor": 5
}
